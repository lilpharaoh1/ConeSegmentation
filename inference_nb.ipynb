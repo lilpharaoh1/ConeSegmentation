{
 "cells": [
  {
   "cell_type": "code",
   "execution_count": 1,
   "id": "ca2b5d44",
   "metadata": {},
   "outputs": [],
   "source": [
    "from email.mime import base\n",
    "from re import A\n",
    "import torch\n",
    "import torch.nn as nn\n",
    "import torch.nn.functional as F \n",
    "import torchvision\n",
    "import numpy as np\n",
    "import matplotlib.pyplot as plt\n",
    "from cone_dataset import build_dataset, CustomDataset\n",
    "from ConeSegmentation.CGNetPy1 import CGNet, CGNetEnd\n",
    "import time\n",
    "import pynvml"
   ]
  },
  {
   "cell_type": "code",
   "execution_count": 2,
   "id": "61316d8a",
   "metadata": {},
   "outputs": [],
   "source": [
    "def infernece_test(model, model_end, dataset, num_tests=100, device=torch.device('cpu')):\n",
    "\n",
    "    times1 = np.zeros([num_tests])\n",
    "    times2 = np.zeros([num_tests])\n",
    "    model.eval()\n",
    "    model_end.eval()\n",
    "    model.to(device)\n",
    "    model_end.to(device)\n",
    "\n",
    "    for idx, (image, mask) in enumerate(dataset):\n",
    "        then = time.time()\n",
    "        out = model(image.unsqueeze(0).to(device))\n",
    "        dt1 = time.time() - then\n",
    "        out = model_end(out)\n",
    "        dt2 = time.time() - then\n",
    "\n",
    "        times1[idx] = dt1\n",
    "        times2[idx] = dt2\n",
    "\n",
    "        if idx == num_tests - 1:\n",
    "            break\n",
    "    \n",
    "    return np.mean(times1), np.mean(times2)"
   ]
  },
  {
   "cell_type": "code",
   "execution_count": 4,
   "id": "6b6c746c",
   "metadata": {},
   "outputs": [
    {
     "data": {
      "text/plain": [
       "<All keys matched successfully>"
      ]
     },
     "execution_count": 4,
     "metadata": {},
     "output_type": "execute_result"
    }
   ],
   "source": [
    "dataset = CustomDataset()\n",
    "img, mask = dataset[0]\n",
    "\n",
    "model = CGNet().cpu()\n",
    "model_end = CGNetEnd().cpu()\n",
    "\n",
    "state_dict = torch.load('ConeSegmentation/weights/CGNetWeights_conv_4')\n",
    "model.load_state_dict(state_dict)"
   ]
  },
  {
   "cell_type": "code",
   "execution_count": 5,
   "id": "4ff85eed",
   "metadata": {},
   "outputs": [
    {
     "name": "stdout",
     "output_type": "stream",
     "text": [
      "0.12084499001502991 0.13004222750663758\n",
      "0.11644684672355651 0.12524299085140228\n",
      "0.11701663672924041 0.12583650290966034\n",
      "0.11675618290901184 0.1255663400888443\n",
      "0.11673943400382995 0.12552351176738738\n",
      "0.1163004207611084 0.12511396765708924\n",
      "0.11600773394107819 0.12480874598026276\n",
      "0.11618974924087525 0.12494357764720916\n",
      "0.11651590466499329 0.12531755089759827\n",
      "0.11711815953254699 0.12595398008823394\n"
     ]
    }
   ],
   "source": [
    "for _ in range(10):\n",
    "    time1, time2 = infernece_test(model, model_end, dataset, num_tests=400, device=torch.device('cpu'))\n",
    "    print(time1, time2)"
   ]
  },
  {
   "cell_type": "code",
   "execution_count": 7,
   "id": "84bc501e",
   "metadata": {},
   "outputs": [],
   "source": [
    "def make_binary(array):\n",
    "    base_array = np.zeros_like(array)\n",
    "    base_array[array > 0.5] = 1\n",
    "\n",
    "    return base_array"
   ]
  },
  {
   "cell_type": "code",
   "execution_count": 8,
   "id": "d8ae00b9",
   "metadata": {},
   "outputs": [],
   "source": [
    "def accuracy_test(model, model_end, dataset, num_tests=100, device=torch.device('cpu')):\n",
    "\n",
    "    accuacy = np.zeros([num_tests])\n",
    "    model.eval()\n",
    "    model_end.eval()\n",
    "    model.to(device)\n",
    "    model_end.to(device)\n",
    "\n",
    "    for idx in range(num_tests):\n",
    "# for idx, (image, mask) in enumerate(dataset):\n",
    "        image, mask = dataset[np.random.randint(0, 1000)]\n",
    "        out = model(image.unsqueeze(0).to(device))\n",
    "        out = model_end(out)\n",
    "\n",
    "        out = make_binary(out[0].cpu().detach().numpy())\n",
    "        mask = make_binary(mask.cpu().detach().numpy())\n",
    "\n",
    "        intersection = np.logical_and(out[0], mask)\n",
    "        union = np.logical_or(out[0], mask)\n",
    "\n",
    "        # plt.imshow(np.transpose(mask, (1, 2, 0)))\n",
    "        # plt.savefig('mask.png')\n",
    "        # plt.imshow(np.transpose(out, (1, 2, 0)))\n",
    "        # plt.savefig('image.png')\n",
    "        # plt.imshow(np.transpose(intersection, (1, 2, 0)))\n",
    "        # plt.savefig('intersection.png')\n",
    "        # plt.imshow(np.transpose(union, (1, 2, 0)))\n",
    "        # plt.savefig('union.png')\n",
    "\n",
    "        iou = np.sum(intersection).item() / np.sum(union).item() if np.sum(union).item() > 0 else 1\n",
    "        accuacy[idx] = iou\n",
    "\n",
    "        if idx == num_tests - 1:\n",
    "            break\n",
    "    \n",
    "    return np.mean(accuacy)"
   ]
  },
  {
   "cell_type": "code",
   "execution_count": 9,
   "id": "866ed8ef",
   "metadata": {},
   "outputs": [
    {
     "name": "stdout",
     "output_type": "stream",
     "text": [
      "0.646419080588062\n",
      "0.6488117909495784\n",
      "0.6453196813041435\n",
      "0.6380291363786937\n",
      "0.6460422861234028\n",
      "0.6583027168311023\n",
      "0.6407602686642639\n",
      "0.6526778736011455\n",
      "0.6450010703659075\n",
      "0.6397798648199519\n"
     ]
    }
   ],
   "source": [
    "for _ in range(10):\n",
    "    accuracy = accuracy_test(model, model_end, dataset, num_tests=400, device=torch.device('cpu'))\n",
    "    print(accuracy)"
   ]
  },
  {
   "cell_type": "code",
   "execution_count": 10,
   "id": "99354ec3",
   "metadata": {},
   "outputs": [],
   "source": [
    "def power_test(model, model_end, dataset, num_tests=100, device=torch.device('cuda')):\n",
    "\n",
    "    torch.cuda.set_device(0)\n",
    "\n",
    "    pynvml.nvmlInit()\n",
    "    gpu = pynvml.nvmlDeviceGetHandleByIndex(0)\n",
    "    name = pynvml.nvmlDeviceGetName(gpu)\n",
    "#     device = name.decode(\"utf-8\")\n",
    "\n",
    "    powers = np.zeros([num_tests])\n",
    "    model.eval()\n",
    "    model_end.eval()\n",
    "    model.to(device)\n",
    "    model_end.to(device)\n",
    "\n",
    "    for idx, (image, mask) in enumerate(dataset):\n",
    "        out = model(image.unsqueeze(0).to(device))\n",
    "        out = model_end(out)\n",
    "        power_usage = pynvml.nvmlDeviceGetPowerUsage(gpu) / 1000\n",
    "\n",
    "        powers[idx] = power_usage\n",
    "\n",
    "        if idx == num_tests - 1:\n",
    "            break\n",
    "    \n",
    "    return np.mean(powers)"
   ]
  },
  {
   "cell_type": "code",
   "execution_count": 11,
   "id": "f3f86da3",
   "metadata": {},
   "outputs": [
    {
     "name": "stdout",
     "output_type": "stream",
     "text": [
      "6.2158\n",
      "6.08\n",
      "6.051\n",
      "6.0659\n",
      "6.1238\n",
      "6.153500000000001\n",
      "6.0706\n",
      "6.0416\n",
      "6.0803\n",
      "6.182\n"
     ]
    }
   ],
   "source": [
    "for _ in range(10):\n",
    "    power = power_test(model, model_end, dataset, num_tests=10, device=torch.device('cpu'))\n",
    "    print(power)"
   ]
  },
  {
   "cell_type": "code",
   "execution_count": 12,
   "id": "ea6271aa",
   "metadata": {},
   "outputs": [
    {
     "name": "stdout",
     "output_type": "stream",
     "text": [
      "0.013975104689598084 0.014048531651496887\n",
      "0.014037632942199707 0.014111154675483704\n",
      "0.014129211902618408 0.014203370213508607\n",
      "0.014052704572677613 0.014126431941986085\n",
      "0.013924887180328369 0.013998509645462036\n",
      "0.01401820957660675 0.01409163773059845\n",
      "0.01407098412513733 0.014144925475120545\n",
      "0.014060906171798705 0.014134681224822998\n",
      "0.014029946923255921 0.014103278517723083\n",
      "0.013960661888122559 0.014033951163291931\n"
     ]
    }
   ],
   "source": [
    "for _ in range(10):\n",
    "    time1, time2 = infernece_test(model, model_end, dataset, num_tests=400, device=torch.device('cuda'))\n",
    "    print(time1, time2)"
   ]
  },
  {
   "cell_type": "code",
   "execution_count": 13,
   "id": "f43d1d5c",
   "metadata": {},
   "outputs": [
    {
     "name": "stdout",
     "output_type": "stream",
     "text": [
      "0.641515020201476\n",
      "0.6619012616596368\n",
      "0.6337050426290716\n",
      "0.6460170640375341\n",
      "0.6364644236777329\n",
      "0.6459393529295963\n",
      "0.6510115294649269\n",
      "0.6506078215904724\n",
      "0.6481219363808836\n",
      "0.6433354182425517\n"
     ]
    }
   ],
   "source": [
    "for _ in range(10):\n",
    "    accuracy = accuracy_test(model, model_end, dataset, num_tests=400, device=torch.device('cuda'))\n",
    "    print(accuracy)"
   ]
  },
  {
   "cell_type": "code",
   "execution_count": 14,
   "id": "6055288c",
   "metadata": {},
   "outputs": [
    {
     "name": "stdout",
     "output_type": "stream",
     "text": [
      "49.249900000000004\n",
      "49.0556\n",
      "48.6913\n",
      "49.352\n",
      "49.273\n",
      "48.8284\n",
      "49.1006\n",
      "49.3017\n",
      "49.2608\n",
      "49.03490000000001\n"
     ]
    }
   ],
   "source": [
    "for _ in range(10):\n",
    "    power = power_test(model, model_end, dataset, num_tests=10, device=torch.device('cuda'))\n",
    "    print(power)"
   ]
  }
 ],
 "metadata": {
  "kernelspec": {
   "display_name": "Python 3 (ipykernel)",
   "language": "python",
   "name": "python3"
  },
  "language_info": {
   "codemirror_mode": {
    "name": "ipython",
    "version": 3
   },
   "file_extension": ".py",
   "mimetype": "text/x-python",
   "name": "python",
   "nbconvert_exporter": "python",
   "pygments_lexer": "ipython3",
   "version": "3.8.10"
  }
 },
 "nbformat": 4,
 "nbformat_minor": 5
}
