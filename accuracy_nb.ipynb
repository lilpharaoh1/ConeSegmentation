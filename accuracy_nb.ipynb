{
 "cells": [
  {
   "cell_type": "code",
   "execution_count": 1,
   "id": "0bd41281",
   "metadata": {},
   "outputs": [],
   "source": [
    "from email.mime import base\n",
    "from re import A\n",
    "import torch\n",
    "import torch.nn as nn\n",
    "import torch.nn.functional as F \n",
    "import torchvision\n",
    "import numpy as np\n",
    "import matplotlib.pyplot as plt\n",
    "from cone_dataset import build_dataset, CustomDataset\n",
    "from ConeSegmentation.CGNetPy1 import CGNet, CGNetEnd"
   ]
  },
  {
   "cell_type": "code",
   "execution_count": 2,
   "id": "b0c97691",
   "metadata": {},
   "outputs": [],
   "source": [
    "def make_binary(array):\n",
    "    base_array = np.zeros_like(array)\n",
    "    base_array[array > 0.5] = 1\n",
    "\n",
    "    return base_array"
   ]
  },
  {
   "cell_type": "code",
   "execution_count": 13,
   "id": "ca22b8bb",
   "metadata": {},
   "outputs": [],
   "source": [
    "def accuracy_test(model, model_end, dataset, num_tests=100, device=torch.device('cpu')):\n",
    "\n",
    "    accuacy = np.zeros([num_tests])\n",
    "    model.eval()\n",
    "    model_end.eval()\n",
    "    model.to(device)\n",
    "    model_end.to(device)\n",
    "\n",
    "    for idx in range(num_tests):\n",
    "# for idx, (image, mask) in enumerate(dataset):\n",
    "        image, mask = dataset[np.random.randint(0, 1000)]\n",
    "        out = model(image.unsqueeze(0).to(device))\n",
    "        out = model_end(out)\n",
    "\n",
    "        out = make_binary(out[0].cpu().detach().numpy())\n",
    "        mask = make_binary(mask.cpu().detach().numpy())\n",
    "\n",
    "        intersection = np.logical_and(out[0], mask)\n",
    "        union = np.logical_or(out[0], mask)\n",
    "\n",
    "        # plt.imshow(np.transpose(mask, (1, 2, 0)))\n",
    "        # plt.savefig('mask.png')\n",
    "        # plt.imshow(np.transpose(out, (1, 2, 0)))\n",
    "        # plt.savefig('image.png')\n",
    "        # plt.imshow(np.transpose(intersection, (1, 2, 0)))\n",
    "        # plt.savefig('intersection.png')\n",
    "        # plt.imshow(np.transpose(union, (1, 2, 0)))\n",
    "        # plt.savefig('union.png')\n",
    "\n",
    "        iou = np.sum(intersection).item() / np.sum(union).item() if np.sum(union).item() > 0 else 1\n",
    "        accuacy[idx] = iou\n",
    "\n",
    "        if idx == num_tests - 1:\n",
    "            break\n",
    "    \n",
    "    return np.mean(accuacy)"
   ]
  },
  {
   "cell_type": "code",
   "execution_count": 11,
   "id": "9cba61f3",
   "metadata": {},
   "outputs": [
    {
     "data": {
      "text/plain": [
       "<All keys matched successfully>"
      ]
     },
     "execution_count": 11,
     "metadata": {},
     "output_type": "execute_result"
    }
   ],
   "source": [
    "dataset = CustomDataset()\n",
    "img, mask = dataset[0]\n",
    "\n",
    "model = CGNet().cpu()\n",
    "model_end = CGNetEnd().cpu()\n",
    "\n",
    "state_dict = torch.load('../weights/CGNet/CGNetWeights_conv_2')\n",
    "model.load_state_dict(state_dict)"
   ]
  },
  {
   "cell_type": "code",
   "execution_count": 15,
   "id": "77427ba9",
   "metadata": {},
   "outputs": [
    {
     "name": "stdout",
     "output_type": "stream",
     "text": [
      "0.7421279281932294\n",
      "0.7465500356465727\n",
      "0.7442194544991991\n",
      "0.7381379027913786\n",
      "0.7567493328100535\n",
      "0.7644181709290133\n",
      "0.7427398661608321\n",
      "0.724938414961699\n",
      "0.7562788875987693\n",
      "0.7577147876765997\n"
     ]
    }
   ],
   "source": [
    "for _ in range(10):\n",
    "    accuracy = accuracy_test(model, model_end, dataset, num_tests=400, device=torch.device('cpu'))\n",
    "    print(accuracy)"
   ]
  }
 ],
 "metadata": {
  "kernelspec": {
   "display_name": "Python 3 (ipykernel)",
   "language": "python",
   "name": "python3"
  },
  "language_info": {
   "codemirror_mode": {
    "name": "ipython",
    "version": 3
   },
   "file_extension": ".py",
   "mimetype": "text/x-python",
   "name": "python",
   "nbconvert_exporter": "python",
   "pygments_lexer": "ipython3",
   "version": "3.8.10"
  }
 },
 "nbformat": 4,
 "nbformat_minor": 5
}
