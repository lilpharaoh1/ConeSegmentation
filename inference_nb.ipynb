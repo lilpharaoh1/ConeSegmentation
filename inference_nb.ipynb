{
 "cells": [
  {
   "cell_type": "code",
   "execution_count": 11,
   "id": "55009b68",
   "metadata": {},
   "outputs": [],
   "source": [
    "from email.mime import base\n",
    "from re import A\n",
    "import torch\n",
    "import torch.nn as nn\n",
    "import torch.nn.functional as F \n",
    "import torchvision\n",
    "import numpy as np\n",
    "import matplotlib.pyplot as plt\n",
    "from cone_dataset import build_dataset, CustomDataset\n",
    "from ConeSegmentation.CGNetPy1 import CGNet, CGNetEnd\n",
    "import time\n",
    "import pynvml"
   ]
  },
  {
   "cell_type": "code",
   "execution_count": 2,
   "id": "87a1a4a5",
   "metadata": {},
   "outputs": [],
   "source": [
    "def infernece_test(model, model_end, dataset, num_tests=100, device=torch.device('cpu')):\n",
    "\n",
    "    times1 = np.zeros([num_tests])\n",
    "    times2 = np.zeros([num_tests])\n",
    "    model.eval()\n",
    "    model_end.eval()\n",
    "    model.to(device)\n",
    "    model_end.to(device)\n",
    "\n",
    "    for idx, (image, mask) in enumerate(dataset):\n",
    "        then = time.time()\n",
    "        out = model(image.unsqueeze(0).to(device))\n",
    "        dt1 = time.time() - then\n",
    "        out = model_end(out)\n",
    "        dt2 = time.time() - then\n",
    "\n",
    "        times1[idx] = dt1\n",
    "        times2[idx] = dt2\n",
    "\n",
    "        if idx == num_tests - 1:\n",
    "            break\n",
    "    \n",
    "    return np.mean(times1), np.mean(times2)"
   ]
  },
  {
   "cell_type": "code",
   "execution_count": 3,
   "id": "06a59bb4",
   "metadata": {},
   "outputs": [
    {
     "data": {
      "text/plain": [
       "<All keys matched successfully>"
      ]
     },
     "execution_count": 3,
     "metadata": {},
     "output_type": "execute_result"
    }
   ],
   "source": [
    "dataset = CustomDataset()\n",
    "img, mask = dataset[0]\n",
    "\n",
    "model = CGNet().cpu()\n",
    "model_end = CGNetEnd().cpu()\n",
    "\n",
    "state_dict = torch.load('weights/CGNetWeights_avmax')\n",
    "model.load_state_dict(state_dict)"
   ]
  },
  {
   "cell_type": "code",
   "execution_count": 4,
   "id": "de375e2d",
   "metadata": {},
   "outputs": [
    {
     "name": "stdout",
     "output_type": "stream",
     "text": [
      "0.133489471077919 0.1436373597383499\n",
      "0.12945966839790343 0.13930539071559905\n",
      "0.11633775115013123 0.12505071759223937\n",
      "0.11617512881755829 0.12490913510322571\n",
      "0.11610655307769775 0.12482508480548858\n",
      "0.116098672747612 0.1248446649312973\n",
      "0.11580618023872376 0.12463776707649231\n",
      "0.11627399325370788 0.1250252443552017\n",
      "0.11574151456356048 0.12448954224586486\n",
      "0.1161336725950241 0.1248706716299057\n"
     ]
    }
   ],
   "source": [
    "for _ in range(10):\n",
    "    time1, time2 = infernece_test(model, model_end, dataset, num_tests=400, device=torch.device('cpu'))\n",
    "    print(time1, time2)"
   ]
  },
  {
   "cell_type": "code",
   "execution_count": 5,
   "id": "a65197c1",
   "metadata": {},
   "outputs": [],
   "source": [
    "def make_binary(array):\n",
    "    base_array = np.zeros_like(array)\n",
    "    base_array[array > 0.5] = 1\n",
    "\n",
    "    return base_array"
   ]
  },
  {
   "cell_type": "code",
   "execution_count": 6,
   "id": "443da12f",
   "metadata": {},
   "outputs": [],
   "source": [
    "def accuracy_test(model, model_end, dataset, num_tests=100, device=torch.device('cpu')):\n",
    "\n",
    "    accuacy = np.zeros([num_tests])\n",
    "    model.eval()\n",
    "    model_end.eval()\n",
    "    model.to(device)\n",
    "    model_end.to(device)\n",
    "\n",
    "    for idx in range(num_tests):\n",
    "# for idx, (image, mask) in enumerate(dataset):\n",
    "        image, mask = dataset[np.random.randint(0, 1000)]\n",
    "        out = model(image.unsqueeze(0).to(device))\n",
    "        out = model_end(out)\n",
    "\n",
    "        out = make_binary(out[0].cpu().detach().numpy())\n",
    "        mask = make_binary(mask.cpu().detach().numpy())\n",
    "\n",
    "        intersection = np.logical_and(out[0], mask)\n",
    "        union = np.logical_or(out[0], mask)\n",
    "\n",
    "        # plt.imshow(np.transpose(mask, (1, 2, 0)))\n",
    "        # plt.savefig('mask.png')\n",
    "        # plt.imshow(np.transpose(out, (1, 2, 0)))\n",
    "        # plt.savefig('image.png')\n",
    "        # plt.imshow(np.transpose(intersection, (1, 2, 0)))\n",
    "        # plt.savefig('intersection.png')\n",
    "        # plt.imshow(np.transpose(union, (1, 2, 0)))\n",
    "        # plt.savefig('union.png')\n",
    "\n",
    "        iou = np.sum(intersection).item() / np.sum(union).item() if np.sum(union).item() > 0 else 1\n",
    "        accuacy[idx] = iou\n",
    "\n",
    "        if idx == num_tests - 1:\n",
    "            break\n",
    "    \n",
    "    return np.mean(accuacy)"
   ]
  },
  {
   "cell_type": "code",
   "execution_count": 7,
   "id": "3d161e25",
   "metadata": {},
   "outputs": [
    {
     "name": "stdout",
     "output_type": "stream",
     "text": [
      "0.7088070919398217\n",
      "0.7158786095237675\n",
      "0.7010917823770063\n",
      "0.700493504189148\n",
      "0.7000981176235309\n",
      "0.716750598344337\n",
      "0.7004080227970627\n",
      "0.7173411965288057\n",
      "0.709395273884709\n",
      "0.7143385885780072\n"
     ]
    }
   ],
   "source": [
    "for _ in range(10):\n",
    "    accuracy = accuracy_test(model, model_end, dataset, num_tests=400, device=torch.device('cpu'))\n",
    "    print(accuracy)"
   ]
  },
  {
   "cell_type": "code",
   "execution_count": 12,
   "id": "ea3350eb",
   "metadata": {},
   "outputs": [],
   "source": [
    "def power_test(model, model_end, dataset, num_tests=100, device=torch.device('cuda')):\n",
    "\n",
    "    torch.cuda.set_device(0)\n",
    "\n",
    "    pynvml.nvmlInit()\n",
    "    gpu = pynvml.nvmlDeviceGetHandleByIndex(0)\n",
    "    name = pynvml.nvmlDeviceGetName(gpu)\n",
    "#     device = name.decode(\"utf-8\")\n",
    "\n",
    "    powers = np.zeros([num_tests])\n",
    "    model.eval()\n",
    "    model_end.eval()\n",
    "    model.to(device)\n",
    "    model_end.to(device)\n",
    "\n",
    "    for idx, (image, mask) in enumerate(dataset):\n",
    "        out = model(image.unsqueeze(0).to(device))\n",
    "        out = model_end(out)\n",
    "        power_usage = pynvml.nvmlDeviceGetPowerUsage(gpu) / 1000\n",
    "\n",
    "        powers[idx] = power_usage\n",
    "\n",
    "        if idx == num_tests - 1:\n",
    "            break\n",
    "    \n",
    "    return np.mean(powers)"
   ]
  },
  {
   "cell_type": "code",
   "execution_count": 13,
   "id": "a54bf615",
   "metadata": {},
   "outputs": [
    {
     "name": "stdout",
     "output_type": "stream",
     "text": [
      "6.157\n",
      "6.0514\n",
      "6.061100000000001\n",
      "6.1088\n",
      "6.08\n",
      "6.0416\n",
      "6.0707\n",
      "6.0512\n",
      "6.0553\n",
      "6.118099999999999\n"
     ]
    }
   ],
   "source": [
    "for _ in range(10):\n",
    "    power = power_test(model, model_end, dataset, num_tests=10, device=torch.device('cpu'))\n",
    "    print(power)"
   ]
  },
  {
   "cell_type": "code",
   "execution_count": 14,
   "id": "6f0b10cc",
   "metadata": {},
   "outputs": [
    {
     "name": "stdout",
     "output_type": "stream",
     "text": [
      "0.014658648371696472 0.01473906934261322\n",
      "0.01407943308353424 0.014153441786766053\n",
      "0.014710987210273743 0.014789448380470275\n",
      "0.014114563465118407 0.014188040494918824\n",
      "0.014752710461616516 0.014833747744560241\n",
      "0.014517396688461304 0.014594383239746093\n",
      "0.01442046046257019 0.014496827721595764\n",
      "0.01422640860080719 0.01430175542831421\n",
      "0.014283732771873473 0.01435928225517273\n",
      "0.014316163063049316 0.014392366409301758\n"
     ]
    }
   ],
   "source": [
    "for _ in range(10):\n",
    "    time1, time2 = infernece_test(model, model_end, dataset, num_tests=400, device=torch.device('cuda'))\n",
    "    print(time1, time2)"
   ]
  },
  {
   "cell_type": "code",
   "execution_count": 15,
   "id": "347b5870",
   "metadata": {},
   "outputs": [
    {
     "name": "stdout",
     "output_type": "stream",
     "text": [
      "0.7235758868843862\n",
      "0.7130505302498232\n",
      "0.7033104639086138\n",
      "0.7135488398482818\n",
      "0.7007474485634114\n",
      "0.717001372012055\n",
      "0.7207180928450996\n",
      "0.7055738054648337\n",
      "0.7163707857737447\n",
      "0.7179191184928275\n"
     ]
    }
   ],
   "source": [
    "for _ in range(10):\n",
    "    accuracy = accuracy_test(model, model_end, dataset, num_tests=400, device=torch.device('cuda'))\n",
    "    print(accuracy)"
   ]
  },
  {
   "cell_type": "code",
   "execution_count": 16,
   "id": "8ea7008a",
   "metadata": {},
   "outputs": [
    {
     "name": "stdout",
     "output_type": "stream",
     "text": [
      "48.4956\n",
      "48.1876\n",
      "48.5463\n",
      "48.362\n",
      "47.92229999999999\n",
      "48.390699999999995\n",
      "47.5332\n",
      "48.0295\n",
      "48.0983\n",
      "46.5888\n"
     ]
    }
   ],
   "source": [
    "for _ in range(10):\n",
    "    power = power_test(model, model_end, dataset, num_tests=10, device=torch.device('cuda'))\n",
    "    print(power)"
   ]
  }
 ],
 "metadata": {
  "kernelspec": {
   "display_name": "Python 3 (ipykernel)",
   "language": "python",
   "name": "python3"
  },
  "language_info": {
   "codemirror_mode": {
    "name": "ipython",
    "version": 3
   },
   "file_extension": ".py",
   "mimetype": "text/x-python",
   "name": "python",
   "nbconvert_exporter": "python",
   "pygments_lexer": "ipython3",
   "version": "3.8.10"
  }
 },
 "nbformat": 4,
 "nbformat_minor": 5
}
